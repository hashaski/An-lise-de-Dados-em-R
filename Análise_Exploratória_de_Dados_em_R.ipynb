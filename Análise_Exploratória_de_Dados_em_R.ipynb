{
  "nbformat": 4,
  "nbformat_minor": 0,
  "metadata": {
    "colab": {
      "provenance": [],
      "authorship_tag": "ABX9TyPHPumyecxIvml+lieIyqhW",
      "include_colab_link": true
    },
    "kernelspec": {
      "name": "ir",
      "display_name": "R"
    },
    "language_info": {
      "name": "R"
    }
  },
  "cells": [
    {
      "cell_type": "markdown",
      "metadata": {
        "id": "view-in-github",
        "colab_type": "text"
      },
      "source": [
        "<a href=\"https://colab.research.google.com/github/hashaski/Analise-de-Dados-em-R/blob/main/An%C3%A1lise_Explorat%C3%B3ria_de_Dados_em_R.ipynb\" target=\"_parent\"><img src=\"https://colab.research.google.com/assets/colab-badge.svg\" alt=\"Open In Colab\"/></a>"
      ]
    },
    {
      "cell_type": "markdown",
      "source": [
        "# Análise Exploratório de Dados na linguagem R."
      ],
      "metadata": {
        "id": "Ngp3FAgQTZ2A"
      }
    },
    {
      "cell_type": "markdown",
      "source": [
        "Importando a database do github."
      ],
      "metadata": {
        "id": "Py--R0NGSiYn"
      }
    },
    {
      "cell_type": "code",
      "execution_count": 31,
      "metadata": {
        "colab": {
          "base_uri": "https://localhost:8080/",
          "height": 286
        },
        "id": "FVucmIg35AJ5",
        "outputId": "506dccc4-99d5-4ec7-8ea7-da3ed2671a64"
      },
      "outputs": [
        {
          "output_type": "display_data",
          "data": {
            "text/html": [
              "<table class=\"dataframe\">\n",
              "<caption>A data.frame: 6 × 12</caption>\n",
              "<thead>\n",
              "\t<tr><th></th><th scope=col>X</th><th scope=col>work_year</th><th scope=col>experience_level</th><th scope=col>employment_type</th><th scope=col>job_title</th><th scope=col>salary</th><th scope=col>salary_currency</th><th scope=col>salary_in_usd</th><th scope=col>employee_residence</th><th scope=col>remote_ratio</th><th scope=col>company_location</th><th scope=col>company_size</th></tr>\n",
              "\t<tr><th></th><th scope=col>&lt;int&gt;</th><th scope=col>&lt;int&gt;</th><th scope=col>&lt;chr&gt;</th><th scope=col>&lt;chr&gt;</th><th scope=col>&lt;chr&gt;</th><th scope=col>&lt;int&gt;</th><th scope=col>&lt;chr&gt;</th><th scope=col>&lt;int&gt;</th><th scope=col>&lt;chr&gt;</th><th scope=col>&lt;int&gt;</th><th scope=col>&lt;chr&gt;</th><th scope=col>&lt;chr&gt;</th></tr>\n",
              "</thead>\n",
              "<tbody>\n",
              "\t<tr><th scope=row>1</th><td>0</td><td>2020</td><td>MI</td><td>FT</td><td>Data Scientist            </td><td> 70000</td><td>EUR</td><td> 79833</td><td>DE</td><td>  0</td><td>DE</td><td>L</td></tr>\n",
              "\t<tr><th scope=row>2</th><td>1</td><td>2020</td><td>SE</td><td>FT</td><td>Machine Learning Scientist</td><td>260000</td><td>USD</td><td>260000</td><td>JP</td><td>  0</td><td>JP</td><td>S</td></tr>\n",
              "\t<tr><th scope=row>3</th><td>2</td><td>2020</td><td>SE</td><td>FT</td><td>Big Data Engineer         </td><td> 85000</td><td>GBP</td><td>109024</td><td>GB</td><td> 50</td><td>GB</td><td>M</td></tr>\n",
              "\t<tr><th scope=row>4</th><td>3</td><td>2020</td><td>MI</td><td>FT</td><td>Product Data Analyst      </td><td> 20000</td><td>USD</td><td> 20000</td><td>HN</td><td>  0</td><td>HN</td><td>S</td></tr>\n",
              "\t<tr><th scope=row>5</th><td>4</td><td>2020</td><td>SE</td><td>FT</td><td>Machine Learning Engineer </td><td>150000</td><td>USD</td><td>150000</td><td>US</td><td> 50</td><td>US</td><td>L</td></tr>\n",
              "\t<tr><th scope=row>6</th><td>5</td><td>2020</td><td>EN</td><td>FT</td><td>Data Analyst              </td><td> 72000</td><td>USD</td><td> 72000</td><td>US</td><td>100</td><td>US</td><td>L</td></tr>\n",
              "</tbody>\n",
              "</table>\n"
            ],
            "text/markdown": "\nA data.frame: 6 × 12\n\n| <!--/--> | X &lt;int&gt; | work_year &lt;int&gt; | experience_level &lt;chr&gt; | employment_type &lt;chr&gt; | job_title &lt;chr&gt; | salary &lt;int&gt; | salary_currency &lt;chr&gt; | salary_in_usd &lt;int&gt; | employee_residence &lt;chr&gt; | remote_ratio &lt;int&gt; | company_location &lt;chr&gt; | company_size &lt;chr&gt; |\n|---|---|---|---|---|---|---|---|---|---|---|---|---|\n| 1 | 0 | 2020 | MI | FT | Data Scientist             |  70000 | EUR |  79833 | DE |   0 | DE | L |\n| 2 | 1 | 2020 | SE | FT | Machine Learning Scientist | 260000 | USD | 260000 | JP |   0 | JP | S |\n| 3 | 2 | 2020 | SE | FT | Big Data Engineer          |  85000 | GBP | 109024 | GB |  50 | GB | M |\n| 4 | 3 | 2020 | MI | FT | Product Data Analyst       |  20000 | USD |  20000 | HN |   0 | HN | S |\n| 5 | 4 | 2020 | SE | FT | Machine Learning Engineer  | 150000 | USD | 150000 | US |  50 | US | L |\n| 6 | 5 | 2020 | EN | FT | Data Analyst               |  72000 | USD |  72000 | US | 100 | US | L |\n\n",
            "text/latex": "A data.frame: 6 × 12\n\\begin{tabular}{r|llllllllllll}\n  & X & work\\_year & experience\\_level & employment\\_type & job\\_title & salary & salary\\_currency & salary\\_in\\_usd & employee\\_residence & remote\\_ratio & company\\_location & company\\_size\\\\\n  & <int> & <int> & <chr> & <chr> & <chr> & <int> & <chr> & <int> & <chr> & <int> & <chr> & <chr>\\\\\n\\hline\n\t1 & 0 & 2020 & MI & FT & Data Scientist             &  70000 & EUR &  79833 & DE &   0 & DE & L\\\\\n\t2 & 1 & 2020 & SE & FT & Machine Learning Scientist & 260000 & USD & 260000 & JP &   0 & JP & S\\\\\n\t3 & 2 & 2020 & SE & FT & Big Data Engineer          &  85000 & GBP & 109024 & GB &  50 & GB & M\\\\\n\t4 & 3 & 2020 & MI & FT & Product Data Analyst       &  20000 & USD &  20000 & HN &   0 & HN & S\\\\\n\t5 & 4 & 2020 & SE & FT & Machine Learning Engineer  & 150000 & USD & 150000 & US &  50 & US & L\\\\\n\t6 & 5 & 2020 & EN & FT & Data Analyst               &  72000 & USD &  72000 & US & 100 & US & L\\\\\n\\end{tabular}\n",
            "text/plain": [
              "  X work_year experience_level employment_type job_title                 \n",
              "1 0 2020      MI               FT              Data Scientist            \n",
              "2 1 2020      SE               FT              Machine Learning Scientist\n",
              "3 2 2020      SE               FT              Big Data Engineer         \n",
              "4 3 2020      MI               FT              Product Data Analyst      \n",
              "5 4 2020      SE               FT              Machine Learning Engineer \n",
              "6 5 2020      EN               FT              Data Analyst              \n",
              "  salary salary_currency salary_in_usd employee_residence remote_ratio\n",
              "1  70000 EUR              79833        DE                   0         \n",
              "2 260000 USD             260000        JP                   0         \n",
              "3  85000 GBP             109024        GB                  50         \n",
              "4  20000 USD              20000        HN                   0         \n",
              "5 150000 USD             150000        US                  50         \n",
              "6  72000 USD              72000        US                 100         \n",
              "  company_location company_size\n",
              "1 DE               L           \n",
              "2 JP               S           \n",
              "3 GB               M           \n",
              "4 HN               S           \n",
              "5 US               L           \n",
              "6 US               L           "
            ]
          },
          "metadata": {}
        }
      ],
      "source": [
        "salario_anual <- read.csv(file = \"https://raw.githubusercontent.com/hashaski/Data_Base_Salario_Anual/main/ds_salaries.csv\")\n",
        "head(salario_anual)"
      ]
    },
    {
      "cell_type": "markdown",
      "source": [
        "Separando os dados que são do meu interesse, em que nesse caso seria os salários em USD."
      ],
      "metadata": {
        "id": "mbqfilPHSoSl"
      }
    },
    {
      "cell_type": "code",
      "source": [
        " salario_anual_usd <- salario_anual$ salary_in_usd\n",
        " head(salario_anual_usd)"
      ],
      "metadata": {
        "colab": {
          "base_uri": "https://localhost:8080/",
          "height": 34
        },
        "id": "sqlE4pUJ6LaO",
        "outputId": "e81ee453-ceff-4b52-99c8-adf48ffc7d6f"
      },
      "execution_count": 32,
      "outputs": [
        {
          "output_type": "display_data",
          "data": {
            "text/html": [
              "<style>\n",
              ".list-inline {list-style: none; margin:0; padding: 0}\n",
              ".list-inline>li {display: inline-block}\n",
              ".list-inline>li:not(:last-child)::after {content: \"\\00b7\"; padding: 0 .5ex}\n",
              "</style>\n",
              "<ol class=list-inline><li>79833</li><li>260000</li><li>109024</li><li>20000</li><li>150000</li><li>72000</li></ol>\n"
            ],
            "text/markdown": "1. 79833\n2. 260000\n3. 109024\n4. 20000\n5. 150000\n6. 72000\n\n\n",
            "text/latex": "\\begin{enumerate*}\n\\item 79833\n\\item 260000\n\\item 109024\n\\item 20000\n\\item 150000\n\\item 72000\n\\end{enumerate*}\n",
            "text/plain": [
              "[1]  79833 260000 109024  20000 150000  72000"
            ]
          },
          "metadata": {}
        }
      ]
    },
    {
      "cell_type": "markdown",
      "source": [
        "Média feita usando funções pré-programas e manualmente."
      ],
      "metadata": {
        "id": "0xJsm1lSSvn4"
      }
    },
    {
      "cell_type": "code",
      "source": [
        "media <- mean(salario_anual_usd)\n",
        "cat(\"A média dos salários anuais em USD feita usando funções pré-programadas é: \", media)\n",
        "\n",
        "media_manual <- function(list) {\n",
        "  return(sum(list) / length(list))\n",
        "}\n",
        "cat(\"\\nA média dos salários anuais em USD é: \", media_manual(salario_anual_usd))"
      ],
      "metadata": {
        "colab": {
          "base_uri": "https://localhost:8080/"
        },
        "id": "5i_jIk359Btb",
        "outputId": "85d68f35-7ccf-45cc-f853-4dc7f498b757"
      },
      "execution_count": 33,
      "outputs": [
        {
          "output_type": "stream",
          "name": "stdout",
          "text": [
            "A média dos salários anuais em USD feita usando funções pré-programadas é:  112297.9\n",
            "A média dos salários anuais em USD é:  112297.9"
          ]
        }
      ]
    },
    {
      "cell_type": "markdown",
      "source": [
        "Mediana feita usando funções pré-programas e manualmente."
      ],
      "metadata": {
        "id": "0iWIu76bTrKJ"
      }
    },
    {
      "cell_type": "code",
      "source": [
        "mediana <- median(salario_anual_usd)\n",
        "cat(\"A mediana dos salários anuais em USD feita usando funções pré-programadas é: \", mediana)\n",
        "\n",
        "mediana_manual <- function(x){\n",
        "  x <- sort(x)\n",
        "  n <- length(x)\n",
        "  if(n %% 2 == 1){\n",
        "    median <- x[(n+1)/2]\n",
        "  }else{\n",
        "    median <- (x[n/2] + x[n/2+1])/2\n",
        "  }\n",
        "  return(median)\n",
        "}\n",
        "cat(\"\\nA mediana dos salários anuais em USD é: \", mediana_manual(salario_anual_usd))"
      ],
      "metadata": {
        "colab": {
          "base_uri": "https://localhost:8080/"
        },
        "id": "0vmAX0PUBz17",
        "outputId": "ec325343-23f6-48a5-f6cf-e0e63b5abefc"
      },
      "execution_count": 34,
      "outputs": [
        {
          "output_type": "stream",
          "name": "stdout",
          "text": [
            "A mediana dos salários anuais em USD feita usando funções pré-programadas é:  101570\n",
            "A mediana dos salários anuais em USD é:  101570"
          ]
        }
      ]
    },
    {
      "cell_type": "markdown",
      "source": [
        "Variância populacional e amostral feitas usando funções pré-programas e manualmente."
      ],
      "metadata": {
        "id": "udEISN5KS6w_"
      }
    },
    {
      "cell_type": "code",
      "source": [
        "n <- length(salario_anual_usd)\n",
        "variancia_populacional <- var(salario_anual_usd) * (n - 1) / n\n",
        "cat(\"A variância populacional dos salários anuais em USD feita usando funções pré-programadas é: \", variancia_populacional)\n",
        "\n",
        "variancia_pop_manual <- function(list) {\n",
        "  soma <- 0\n",
        "  my_range <- 1:length(list)\n",
        "  for (i in my_range) {\n",
        "    soma = soma + (list[i] - media_manual(list)) ** 2\n",
        "  }\n",
        "  return (soma / length(list))\n",
        "}\n",
        "cat(\"\\nA variância populacional dos salários anuais em USD é: \", variancia_pop_manual(salario_anual_usd),\"\\n\")\n",
        "\n",
        "\n",
        "variancia_amostral <- var(salario_anual_usd)\n",
        "cat(\"\\nA variância amostral dos salários anuais em USD feita usando funções pré-programadas é: \", variancia_amostral)\n",
        "\n",
        "variancia_amos_manual <- function(list) {\n",
        "    soma <- 0\n",
        "    my_range <- 1:length(list)\n",
        "  for (i in my_range) {\n",
        "    soma = soma + (list[i] - media_manual(list)) ** 2\n",
        "  }\n",
        "  return (soma / (length(list) - 1))\n",
        "}\n",
        "cat(\"\\nA variância amostral dos salários anuais em USD é: \", variancia_amos_manual(salario_anual_usd))"
      ],
      "metadata": {
        "colab": {
          "base_uri": "https://localhost:8080/"
        },
        "id": "jQ2N8XNyCjAq",
        "outputId": "e5697720-1361-496f-b322-110bb70b617a"
      },
      "execution_count": 35,
      "outputs": [
        {
          "output_type": "stream",
          "name": "stdout",
          "text": [
            "A variância populacional dos salários anuais em USD feita usando funções pré-programadas é:  5026637881\n",
            "A variância populacional dos salários anuais em USD é:  5026637881 \n",
            "\n",
            "A variância amostral dos salários anuais em USD feita usando funções pré-programadas é:  5034932663\n",
            "A variância amostral dos salários anuais em USD é:  5034932663"
          ]
        }
      ]
    },
    {
      "cell_type": "markdown",
      "source": [
        "Desvio amostral e populacional feitos usando funções pré-programas e manualmente."
      ],
      "metadata": {
        "id": "13YgA2W9TAfz"
      }
    },
    {
      "cell_type": "code",
      "source": [
        "desvio_amostral <- sd(salario_anual_usd)\n",
        "cat(\"O desvio padrão amostral dos salário anuais em USD usando funções pré-programadas é: \", desvio_amostral)\n",
        "\n",
        "desvio_amos_manual <- function(list) {\n",
        "  return(variancia_amos_manual(list) ** 0.5)\n",
        "}\n",
        "cat(\"\\nO desvio padrão amostral dos salários anuais em USD é: \", desvio_amos_manual(salario_anual_usd), \"\\n\")\n",
        "\n",
        "\n",
        "n <- length(salario_anual_usd)\n",
        "desvio_populacional <- sd(salario_anual_usd)*sqrt((n-1)/n)\n",
        "cat(\"\\nO desvio padrão populacional dos salário anuais em USD usando funções pré-programadas é: \", desvio_populacional)\n",
        "\n",
        "desvio_pop_manual <- function(list) {\n",
        "  return(variancia_pop_manual(list) ** 0.5)\n",
        "}\n",
        "cat(\"\\nO desvio padrão populacional dos salários anuais em USD é: \", desvio_pop_manual(salario_anual_usd))"
      ],
      "metadata": {
        "colab": {
          "base_uri": "https://localhost:8080/"
        },
        "id": "o8ufK3T1OeYt",
        "outputId": "231b07b5-3f58-4002-da4b-674279862c20"
      },
      "execution_count": 36,
      "outputs": [
        {
          "output_type": "stream",
          "name": "stdout",
          "text": [
            "O desvio padrão amostral dos salário anuais em USD usando funções pré-programadas é:  70957.26\n",
            "O desvio padrão amostral dos salários anuais em USD é:  70957.26 \n",
            "\n",
            "O desvio padrão populacional dos salário anuais em USD usando funções pré-programadas é:  70898.79\n",
            "O desvio padrão populacional dos salários anuais em USD é:  70898.79"
          ]
        }
      ]
    },
    {
      "cell_type": "markdown",
      "source": [
        "Coeficiente de variação amostral e populacional feitos usando funções pré-programas e manualmente."
      ],
      "metadata": {
        "id": "bHjZZKCnTGXV"
      }
    },
    {
      "cell_type": "code",
      "source": [
        "coeficiente_amos <- sd(salario_anual_usd) / mean(salario_anual_usd) * 100\n",
        "cat(\"O coeficiente de variação amostral dos salário anuais em USD usando funções pré-programadas é: \", coeficiente_amos, \"%\")\n",
        "\n",
        "coeficiente_amos_manual <- function(list) {\n",
        "  return (desvio_amos_manual(list) / media_manual(list) * 100)\n",
        "}\n",
        "cat(\"\\nO coeficiente de variação amostral dos salários anuais em USD é: \", coeficiente_amos_manual(salario_anual_usd), \"%\\n\")\n",
        "\n",
        "\n",
        "coeficiente_pop <- (sd(salario_anual_usd)*sqrt((n-1)/n)) / mean(salario_anual_usd) * 100\n",
        "cat(\"\\nO coeficiente de variação populacional dos salários anuais em USD usando funções pré-programadas é: \", coeficiente_pop, \"%\")\n",
        "\n",
        "coeficiente_pop_manual <- function(list) {\n",
        "  return (desvio_pop_manual(list) / media_manual(list) * 100)\n",
        "}\n",
        "cat(\"\\nO coeficiente de variação populacional dos salários anuais em USD é: \", coeficiente_pop_manual(salario_anual_usd), \"%\")"
      ],
      "metadata": {
        "colab": {
          "base_uri": "https://localhost:8080/"
        },
        "id": "b6j6agThP9-5",
        "outputId": "5bf5cb0e-85ac-41be-c9ef-0e9dc3bef5b2"
      },
      "execution_count": 37,
      "outputs": [
        {
          "output_type": "stream",
          "name": "stdout",
          "text": [
            "O coeficiente de variação amostral dos salário anuais em USD usando funções pré-programadas é:  63.18665 %\n",
            "O coeficiente de variação amostral dos salários anuais em USD é:  63.18665 %\n",
            "\n",
            "O coeficiente de variação populacional dos salários anuais em USD usando funções pré-programadas é:  63.13458 %\n",
            "O coeficiente de variação populacional dos salários anuais em USD é:  63.13458 %"
          ]
        }
      ]
    },
    {
      "cell_type": "markdown",
      "source": [
        "Quartis feitos usando funções pré-programas e manualmente."
      ],
      "metadata": {
        "id": "n_UBThisTLJ-"
      }
    },
    {
      "cell_type": "code",
      "source": [
        "summary(salario_anual_usd)\n",
        "cat(\"\\nO primeiro quartil dos salários anuais em USD usando funções pré-programadas é: 62726\")\n",
        "\n",
        "quartil_1_manual <- function(list){\n",
        "  list <- sort(list)\n",
        "  orig_median <- mediana_manual(list)\n",
        "  while(max(list) >= orig_median){\n",
        "    list <- list[-which.max(list)]\n",
        "  }\n",
        "  return(mediana_manual(list))\n",
        "}\n",
        "cat(\"\\nO primeiro quartil dos salários anuais em USD é: \", quartil_1_manual(salario_anual_usd),\"\\n\")\n",
        "\n",
        "\n",
        "cat(\"\\nO terceiro quartil dos salários anuais em USD usando funções pré-programadas é: 150000\")\n",
        "\n",
        "quartil_3_manual <- function(list){\n",
        "  list <- sort(list)\n",
        "  orig_median <- mediana_manual(list)\n",
        "  while(min(list) <= orig_median){\n",
        "    list <- list[-which.min(list)]\n",
        "  }\n",
        "  return(mediana_manual(list))\n",
        "}\n",
        "cat(\"\\nO terceiro quartil dos salários anuais em USD é: \", quartil_3_manual(salario_anual_usd))"
      ],
      "metadata": {
        "id": "F8lkABkQQw1H",
        "outputId": "2b832451-f1a2-49df-805c-5bbdaf94d90e",
        "colab": {
          "base_uri": "https://localhost:8080/",
          "height": 163
        }
      },
      "execution_count": 38,
      "outputs": [
        {
          "output_type": "display_data",
          "data": {
            "text/plain": [
              "   Min. 1st Qu.  Median    Mean 3rd Qu.    Max. \n",
              "   2859   62726  101570  112298  150000  600000 "
            ]
          },
          "metadata": {}
        },
        {
          "output_type": "stream",
          "name": "stdout",
          "text": [
            "\n",
            "O primeiro quartil dos salários anuais em USD usando funções pré-programadas é: 62726\n",
            "O primeiro quartil dos salários anuais em USD é:  62726 \n",
            "\n",
            "O terceiro quartil dos salários anuais em USD usando funções pré-programadas é: 150000\n",
            "O terceiro quartil dos salários anuais em USD é:  150000"
          ]
        }
      ]
    },
    {
      "cell_type": "markdown",
      "source": [
        "Histograma usando função pré-programada."
      ],
      "metadata": {
        "id": "5yNnyGhOTQ3s"
      }
    },
    {
      "cell_type": "code",
      "source": [
        "hist(salario_anual_usd)"
      ],
      "metadata": {
        "colab": {
          "base_uri": "https://localhost:8080/",
          "height": 437
        },
        "id": "LlYptaNbSU_G",
        "outputId": "ae487f0e-10a7-40b3-e99b-4092f2fa2601"
      },
      "execution_count": 39,
      "outputs": [
        {
          "output_type": "display_data",
          "data": {
            "text/plain": [
              "Plot with title “Histogram of salario_anual_usd”"
            ],
            "image/png": "[encoded data removed]"
          },
          "metadata": {
            "image/png": {
              "width": 420,
              "height": 420
            }
          }
        }
      ]
    },
    {
      "cell_type": "markdown",
      "source": [
        "Boxplot usando função pré-programada."
      ],
      "metadata": {
        "id": "5qW61NEGTuoC"
      }
    },
    {
      "cell_type": "code",
      "source": [
        "boxplot(salario_anual_usd)"
      ],
      "metadata": {
        "colab": {
          "base_uri": "https://localhost:8080/",
          "height": 437
        },
        "id": "ZkOz2AVnSZ_G",
        "outputId": "54135a81-7067-4dba-c5e7-3a04e50a011d"
      },
      "execution_count": 40,
      "outputs": [
        {
          "output_type": "display_data",
          "data": {
            "text/plain": [
              "plot without title"
            ],
            "image/png": "[encoded data removed]"
          },
          "metadata": {
            "image/png": {
              "width": 420,
              "height": 420
            }
          }
        }
      ]
    }
  ]
}